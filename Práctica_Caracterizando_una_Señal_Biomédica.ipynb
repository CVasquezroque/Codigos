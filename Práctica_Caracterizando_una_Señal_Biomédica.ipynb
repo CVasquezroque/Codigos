{
  "nbformat": 4,
  "nbformat_minor": 0,
  "metadata": {
    "colab": {
      "name": "Práctica Caracterizando una Señal Biomédica.ipynb",
      "provenance": [],
      "private_outputs": true,
      "collapsed_sections": [],
      "include_colab_link": true
    },
    "kernelspec": {
      "name": "python3",
      "display_name": "Python 3"
    }
  },
  "cells": [
    {
      "cell_type": "markdown",
      "metadata": {
        "id": "view-in-github",
        "colab_type": "text"
      },
      "source": [
        "<a href=\"https://colab.research.google.com/github/CVasquezroque/Codigos/blob/master/Pr%C3%A1ctica_Caracterizando_una_Se%C3%B1al_Biom%C3%A9dica.ipynb\" target=\"_parent\"><img src=\"https://colab.research.google.com/assets/colab-badge.svg\" alt=\"Open In Colab\"/></a>"
      ]
    },
    {
      "cell_type": "markdown",
      "metadata": {
        "id": "pckZp2JSU6Vy",
        "colab_type": "text"
      },
      "source": [
        ""
      ]
    },
    {
      "cell_type": "markdown",
      "metadata": {
        "id": "lKhGz2ILQM2C",
        "colab_type": "text"
      },
      "source": [
        "# **Universidad Peruana Cayetano Heredia**\n",
        "# **Introducción a Señales biomédicas (2020-1)**\n",
        "# **Caracterizando una señal biomédica**\n",
        "\n",
        "## **Análisis de una onda ECG**\n",
        "\n",
        "Para el desarrollo de esta práctica necesitaremos:\n",
        "\n",
        "\n",
        "*   Onda de electrocardiograma proveniente de la libreria SCIPY (scipy.misc [Miscellaneous routines](https://docs.scipy.org/doc/scipy/reference/generated/scipy.misc.electrocardiogram.html))\n",
        "*   La transformada de Fourier ([Fast Fourier Transform](https://docs.scipy.org/doc/scipy/reference/tutorial/fft.html))\n",
        "*   Librería de visualización de señales Matplotlib ([Pyplot](https://matplotlib.org/api/pyplot_summary.html))\n",
        "*   Librería de soporte y operación de matrices y vectores ([Numpy](https://numpy.org/))\n",
        "\n",
        "**Nota**: Este notebook tiene partes por completar\n",
        "\n"
      ]
    },
    {
      "cell_type": "code",
      "metadata": {
        "id": "M1C5FEx-S_V-",
        "colab_type": "code",
        "colab": {}
      },
      "source": [
        "from statsmodels.graphics.tsaplots import plot_acf\n",
        "from scipy.fft import fft\n",
        "from scipy.misc import electrocardiogram\n",
        "from scipy.stats import kstest\n",
        "import matplotlib.pyplot as plt\n",
        "import numpy as np"
      ],
      "execution_count": 0,
      "outputs": []
    },
    {
      "cell_type": "markdown",
      "metadata": {
        "id": "QWxArj_AmdWU",
        "colab_type": "text"
      },
      "source": [
        "### **1.1 La señal a analizar: Onda ECG**\n",
        "\n",
        "Las ondas ECG son señales complejas compuestas por multiples ondas provenientes de la acción potencial de diferentes partes del corazón que son captadas a través de equipos de electrocardiogramas. Los electrocardiogramas captan estas señales mediante el uso de electrodos que pueden ser superficiales (ver figura 1) o intramusculares mediante agujas (ver figura 2). \n",
        "\n",
        "![Figura 1. Electrodo Superficial, Referencia: [Adafruit](https://www.adafruit.com/product/2773)](https://cdn-shop.adafruit.com/970x728/2773-00.jpg)\n",
        "\n",
        "**Figura 1.** Electrodo Superficial, Referencia: [Adafruit](https://www.adafruit.com/product/2773)\n",
        "\n",
        "![Figura 2. Electrodo Aguja](https://www.adinstruments.com/sites/default/files/products/prod_MLA1203.jpg)\n",
        "\n",
        "**Figura 2.** Electrodo tipo aguja, Referencia : [ADInstrument](https://www.adinstruments.com/products/needle-electrodes)\n",
        "\n",
        "\n",
        "\n",
        "#### **ECG data**\n",
        "\n",
        "La señal de ECG que utilizaremos proviene de la librería MISC de SCIPY, la cual a su vez toma la señal de la base de datos PhysioNet, the MIT-BIH Arrhythmia Database, y han sido digitalizadas con una frecuencia de muestreo de 360 Hz por un tiempo de 5 minutos.\n",
        "\n",
        "De manera general, podemos extraer algunos parámetros de la señal como:\n",
        "\n",
        "\n",
        "*   Tamaño del array:\n",
        "\n",
        "\n",
        "```\n",
        "ecg.shape\n",
        "```\n",
        "\n",
        "\n",
        "*   El valor medio de la onda:\n",
        "\n",
        "\n",
        "```\n",
        "ecg.mean()\n",
        "```\n",
        "\n",
        "\n",
        "*   La desviación estandar de la onda:\n",
        "\n",
        "\n",
        "```\n",
        "ecg.std()\n",
        "```\n",
        "\n",
        "\n",
        "\n",
        "\n",
        "**Preguntas**\n",
        "\n",
        "*   Una señal de 5 minutos, muestreada a 360Hz ¿cuántas muestras debería tener?\n",
        "\n",
        "\n",
        "\n"
      ]
    },
    {
      "cell_type": "code",
      "metadata": {
        "id": "usBJjLtOniI2",
        "colab_type": "code",
        "colab": {}
      },
      "source": [
        "?electrocardiogram"
      ],
      "execution_count": 0,
      "outputs": []
    },
    {
      "cell_type": "markdown",
      "metadata": {
        "id": "My15WzT9o4kt",
        "colab_type": "text"
      },
      "source": [
        "Vamos a cargar la señal en la variable `ecg` y vamos a ver el tipo de dato tiene. Un `numpy.ndarray` es el objeto usado para representar vectores, matrices y otros datos n-dimensionales."
      ]
    },
    {
      "cell_type": "code",
      "metadata": {
        "id": "O3OA6cZto5Bn",
        "colab_type": "code",
        "colab": {}
      },
      "source": [
        "ecg = electrocardiogram()\n",
        "type(ecg)"
      ],
      "execution_count": 0,
      "outputs": []
    },
    {
      "cell_type": "markdown",
      "metadata": {
        "id": "fhBsTtBpnn3_",
        "colab_type": "text"
      },
      "source": [
        "A continuación, vamos a usar la función `matplotlib.pyplot.plot` para mostrar gráficamente la señal."
      ]
    },
    {
      "cell_type": "code",
      "metadata": {
        "id": "JhlF1KfELC7l",
        "colab_type": "code",
        "colab": {}
      },
      "source": [
        "fs = 360\n",
        "time = np.arange(ecg.size) / fs\n",
        "plt.plot(time, ecg)\n",
        "plt.xlabel(\"tiempo en s\")\n",
        "plt.ylabel(\"ECG en mV\")\n",
        "plt.xlim(50, 52)\n",
        "plt.ylim(-1, 1.5)\n",
        "plt.show()"
      ],
      "execution_count": 0,
      "outputs": []
    },
    {
      "cell_type": "markdown",
      "metadata": {
        "id": "wze20uYBpsn1",
        "colab_type": "text"
      },
      "source": [
        "Para poder visualizar mejor la señal podemos obtener un \"slice\" del vector usando `ecg[:500]` y mostrarlo usando la función `matplotlib.pyplot.plot`."
      ]
    },
    {
      "cell_type": "code",
      "metadata": {
        "id": "VLsAlnAvLF-L",
        "colab_type": "code",
        "colab": {}
      },
      "source": [
        "plt.figure()\n",
        "plt.title(\"ECG\")  #titulo del plot\n",
        "plt.xlabel(\"Muestras\") #etiqueta para el eje x\n",
        "plt.ylabel(\"Voltage\")  #etiqueta para el eje y\n",
        "plt.plot(ecg[:500]) #solo mostramos las primeras 500 muestras\n",
        "plt.show()"
      ],
      "execution_count": 0,
      "outputs": []
    },
    {
      "cell_type": "markdown",
      "metadata": {
        "id": "baakdCO-vwKf",
        "colab_type": "text"
      },
      "source": [
        "### Pregunta\n",
        "\n",
        "¿Cuál es el tiempo entre los dos picos?. Recuerde que puede usar el `numpy.max` y `numpy.argmax` para ubicar los picos. Recuerde que puede usar `?` para ver la documentación de las funciones"
      ]
    },
    {
      "cell_type": "code",
      "metadata": {
        "id": "XRsY1tTnzNsD",
        "colab_type": "code",
        "colab": {}
      },
      "source": [
        "?np.max"
      ],
      "execution_count": 0,
      "outputs": []
    },
    {
      "cell_type": "code",
      "metadata": {
        "id": "EA6vbw1DzRkB",
        "colab_type": "code",
        "colab": {}
      },
      "source": [
        "?np.argmax"
      ],
      "execution_count": 0,
      "outputs": []
    },
    {
      "cell_type": "code",
      "metadata": {
        "id": "MAFQ0iTHLTb2",
        "colab_type": "code",
        "colab": {}
      },
      "source": [
        "#########################################\n",
        "######## Escriba su código aquí #########\n",
        "#########################################\n",
        "\n",
        "pico1 = np.argmax(ecg[:200])\n",
        "pico2 = 200 + np.argmax(ecg[200:500])\n",
        "\n",
        "#########################################\n",
        "n_muestras = pico2 - pico1 + 1\n",
        "tiempo = n_muestras/360 #cantidad de muestras / cantidad_de_muestras_por_segundo\n",
        "print(\"{:.2f} segundos\".format(tiempo))\n"
      ],
      "execution_count": 0,
      "outputs": []
    },
    {
      "cell_type": "markdown",
      "metadata": {
        "id": "kSgh2bRF7ZQp",
        "colab_type": "text"
      },
      "source": [
        "### Autocorrelación\n",
        "\n",
        "La correlación nos permite medir el grado de similaridad entre dos señales, para eso usaremos la función `numpy.correlate`"
      ]
    },
    {
      "cell_type": "code",
      "metadata": {
        "id": "90lG33Eg7pFp",
        "colab_type": "code",
        "colab": {}
      },
      "source": [
        "?np.correlate"
      ],
      "execution_count": 0,
      "outputs": []
    },
    {
      "cell_type": "code",
      "metadata": {
        "id": "cmUWqMgk7ZcI",
        "colab_type": "code",
        "colab": {}
      },
      "source": [
        "plt.figure(figsize=(10,10))\n",
        "plt.suptitle(\"Correlación\")\n",
        "plt.subplot(2, 2, 1)\n",
        "plt.title(\"ECG\")\n",
        "plt.plot(ecg[:1000])\n",
        "plt.subplot(2, 2, 2)\n",
        "plt.title(\"Segmento\")\n",
        "plt.plot(ecg[660:870])\n",
        "plt.subplot(2, 2, 3)\n",
        "plt.title(\"Correlación\")\n",
        "plt.plot(np.correlate(ecg[:1000], ecg[660:870], mode='same'))"
      ],
      "execution_count": 0,
      "outputs": []
    },
    {
      "cell_type": "markdown",
      "metadata": {
        "id": "RX5Rdp2Tgqmn",
        "colab_type": "text"
      },
      "source": [
        "### Verificando Normalidad\n",
        "\n",
        "Una de las características que quisieramos conocer de una señal es si sus datos provienen de una distribución normal."
      ]
    },
    {
      "cell_type": "code",
      "metadata": {
        "id": "Z26kyv4jgq1c",
        "colab_type": "code",
        "colab": {}
      },
      "source": [
        "plt.figure()\n",
        "plt.title(\"Histograma de valores de la señal ECG\")\n",
        "plt.hist(ecg, bins=100)\n",
        "plt.plot()"
      ],
      "execution_count": 0,
      "outputs": []
    },
    {
      "cell_type": "markdown",
      "metadata": {
        "id": "FLx3tXtujU53",
        "colab_type": "text"
      },
      "source": [
        "¿Cuál es el signficado de la prueba Kolmogorov-Smirnov a continuación? \n",
        "\n",
        "\n",
        "####################\n",
        "\n",
        "Escriba aquí\n",
        "\n",
        "####################"
      ]
    },
    {
      "cell_type": "code",
      "metadata": {
        "id": "I_hpkAwLipry",
        "colab_type": "code",
        "colab": {}
      },
      "source": [
        "kstest(ecg, 'norm', args=(0,1)) "
      ],
      "execution_count": 0,
      "outputs": []
    },
    {
      "cell_type": "markdown",
      "metadata": {
        "id": "fIUchm_skYE2",
        "colab_type": "text"
      },
      "source": [
        "La hipótesis nula, es que la distribución de los datos es idéntica a una distribución normal (media=0, std=1). Si el valor es menor a 0.05 podemos rechazar la hipótesis nula y concluir que nuestra muestra no es identica a una distribución normal con los parámetros mencionados."
      ]
    },
    {
      "cell_type": "markdown",
      "metadata": {
        "id": "JRxiLdoDRGzF",
        "colab_type": "text"
      },
      "source": [
        "### **1.2 Fast Fourier transforms**\n",
        "\n",
        "#### **Transformada Discreta de Fourier**\n",
        "\n",
        "Fast Fourier Transform (FFT) es un algoritmo matemático que calcula la Transformación Discreta de Fourier (DFT) de una secuencia dada. La única diferencia entre la Transformada de Fourier (FT) y FFT es que FT considera una señal continua mientras que FFT toma una señal discreta como entrada. DFT convierte una secuencia (señal discreta) en sus componentes de frecuencia al igual que FT para una señal continua. En nuestro caso, tenemos una secuencia de amplitudes que se tomaron muestras de una señal de audio continua. El algoritmo DFT o FFT puede convertir esta señal discreta de dominio de tiempo en un dominio de frecuencia.\n",
        "\n",
        "#### **Prueba con una señal de entrada: Suma de 2 funciones senoidales**\n",
        "\n",
        "Con esta señal inicial conocida, la cual sabemos su transformada de Fourier, probamos que nuestro código se comporta de manera correcta."
      ]
    },
    {
      "cell_type": "code",
      "metadata": {
        "id": "CQ5ZKfa4RHUF",
        "colab_type": "code",
        "colab": {}
      },
      "source": [
        "# Número de muestras \n",
        "N = 600\n",
        "# Periodo de muestreo en base a una frecuencia de muestreo de 800Hz\n",
        "T = 1.0 / 800.0\n",
        "x = np.linspace(0.0, N*T, N)\n",
        "# Suma de funciones senoidales de frecuencias de 50 y 80 Hz respectivamente\n",
        "y = np.sin(50.0 * 2.0*np.pi*x) + 0.5*np.sin(80.0 * 2.0*np.pi*x)\n",
        "plt.plot(x,y)\n",
        "plt.grid()\n",
        "plt.show()"
      ],
      "execution_count": 0,
      "outputs": []
    },
    {
      "cell_type": "code",
      "metadata": {
        "id": "UG2Qhh-RRLw6",
        "colab_type": "code",
        "colab": {}
      },
      "source": [
        "yf = fft(y)\n",
        "xf = np.linspace(0.0, 1.0/(2.0*T), N//2)\n",
        "plt.plot(xf, 2.0/N * np.abs(yf[0:N//2]))\n",
        "plt.grid()\n",
        "plt.show()"
      ],
      "execution_count": 0,
      "outputs": []
    },
    {
      "cell_type": "code",
      "metadata": {
        "id": "qBHChHFYROJC",
        "colab_type": "code",
        "colab": {}
      },
      "source": [
        "T = 1/fs\n",
        "N = len(ecg)\n",
        "yf = fft(ecg)\n",
        "xf = np.linspace(0.0, 1.0/(2.0*T), N//2)\n",
        "plt.plot(xf, 2.0/N * np.abs(yf[0:N//2]))\n",
        "plt.grid()\n",
        "plt.xlabel(\"Frecuencia\")\n",
        "plt.ylabel(\"Magnitud\")\n",
        "plt.show()"
      ],
      "execution_count": 0,
      "outputs": []
    },
    {
      "cell_type": "markdown",
      "metadata": {
        "id": "cf45O6rIRf-T",
        "colab_type": "text"
      },
      "source": [
        "## **2. Análisis Estacionario de una onda ECG**\n",
        "\n",
        "Para el desarrollo de esta práctica necesitaremos:\n",
        "\n",
        "\n",
        "*   Onda de electrocardiograma proveniente de la libreria SCIPY (scipy.misc [Miscellaneous routines](https://docs.scipy.org/doc/scipy/reference/generated/scipy.misc.electrocardiogram.html))\n",
        "*   La transformada de Fourier ([Fast Fourier Transform](https://docs.scipy.org/doc/scipy/reference/tutorial/fft.html))\n",
        "*   Librería de visualización de señales Matplotlib ([Pyplot](https://matplotlib.org/api/pyplot_summary.html))\n",
        "*   Librería de soporte y operación de matrices y vectores ([Numpy](https://numpy.org/))\n",
        "\n",
        "\n",
        "Ahora veremos algunos métodos para poder establecer la estacionariedad de la señal.\n",
        "\n",
        "### **2.1. Visual**\n",
        "\n",
        "La primera forma de analizar la estacionariedad de la señal es el análisis visual de la señal. "
      ]
    },
    {
      "cell_type": "code",
      "metadata": {
        "id": "xq5MbaLwRh_b",
        "colab_type": "code",
        "colab": {}
      },
      "source": [
        "fs = 360\n",
        "time = np.arange(ecg.size) / fs\n",
        "plt.plot(time, ecg)\n",
        "plt.xlabel(\"tiempo en s\")\n",
        "plt.ylabel(\"ECG en mV\")\n",
        "#plt.xlim(50, 52)\n",
        "#plt.ylim(-1, 1.5)\n",
        "plt.show()"
      ],
      "execution_count": 0,
      "outputs": []
    },
    {
      "cell_type": "code",
      "metadata": {
        "id": "iim6ZpQmSSNg",
        "colab_type": "code",
        "colab": {}
      },
      "source": [
        "fs = 360\n",
        "time = np.arange(ecg.size) / fs\n",
        "plt.plot(time, ecg)\n",
        "plt.xlabel(\"tiempo en s\")\n",
        "plt.ylabel(\"ECG en mV\")\n",
        "#########################################\n",
        "######## Escriba su código aquí #########\n",
        "#########################################\n",
        "# Objetivo: mostrar una parte de la señal\n",
        "plt.show()"
      ],
      "execution_count": 0,
      "outputs": []
    },
    {
      "cell_type": "markdown",
      "metadata": {
        "id": "nXzgsGzlRpB2",
        "colab_type": "text"
      },
      "source": [
        "### **2.2. Prueba estadística**\n",
        "\n",
        "En lugar de realizar la prueba visual, podemos usar pruebas estadísticas como las pruebas estacionarias de raíz unitaria. La raíz unitaria indica que las propiedades estadísticas de una serie dada no son constantes con el tiempo, que es la condición para las series temporales estacionarias. Aquí está la explicación matemática de lo mismo: \n",
        "\n",
        "Supongamos que tenemos una serie: \n",
        "$$y_{t} = a*y_{t-1} + \\epsilon_{t}$$, donde $y_t$ es el valor a un instante de tiempo y $\\epsilon_{t}$ es el error. Para calcular $y_{t}$ necesitamos tener primero $y_{t-1}$.\n",
        "\n",
        "$$y_{t-1} = a*y_{t-2} + \\epsilon_{t-1}$$\n",
        "\n",
        "Si hacemos eso para todas las observaciones, el valor de $y_{t}$ resultará ser:\n",
        "\n",
        "$$y_{t} = a^n*y_{t-n} + \\sum\\epsilon_{t-i}*a^i$$\n",
        "\n",
        "Si el valor de a es 1 (unidad) en la ecuación anterior, las predicciones serán iguales a $y_{t-n}$ y la suma de todos los errores de t-n a t, lo que significa que la varianza aumentará con el tiempo. Esto se conoce como raíz unitaria en una serie de tiempo. Sabemos que para una serie temporal estacionaria, la varianza no debe ser una función del tiempo. Las pruebas de raíz unitaria verifican la presencia de raíz unitaria en la serie verificando si el valor de a = 1. A continuación se presentan las dos pruebas estacionarias de raíz unitaria más utilizadas:\n",
        "\n",
        "#### **Augmented Dickey Fuller (ADF)**\n",
        "\n",
        "La prueba Dickey Fuller es una de las pruebas estadísticas más populares. Se puede utilizar para determinar la presencia de raíz unitaria en la serie y, por lo tanto, ayudarnos a comprender si la serie es estacionaria o no. Las hipótesis nula y alternativa de esta prueba son:\n",
        "\n",
        "**Hipótesis nula:** la serie tiene una raíz unitaria (valor de a = 1)\n",
        "\n",
        "**Hipótesis alternativa:** la serie no tiene raíz unitaria.\n",
        "\n",
        "Si no podemos rechazar la hipótesis nula, podemos decir que la serie no es estacionaria. Esto significa que la serie puede ser lineal o estacionaria en diferencias (entenderemos más sobre la diferencia estacionaria en la siguiente sección)."
      ]
    },
    {
      "cell_type": "code",
      "metadata": {
        "id": "UK1RtJ--Ru5L",
        "colab_type": "code",
        "colab": {}
      },
      "source": [
        "#Definimos una funcion para el ADF test\n",
        "import pandas as pd\n",
        "from statsmodels.tsa.stattools import adfuller\n",
        "def adf_test(timeseries):\n",
        "    #Perform Dickey-Fuller test:\n",
        "    print ('Resultados del Dickey-Fuller Test:')\n",
        "    dftest = adfuller(timeseries, autolag='AIC')\n",
        "    dfoutput = pd.Series(dftest[0:4], index=['Test Statistic','p-value','#Lags Used','Número de Observaciones Usados'])\n",
        "    for key,value in dftest[4].items():\n",
        "       dfoutput['Valores Críticos (%s)'%key] = value\n",
        "    print (dfoutput)\n",
        "\n",
        "#Aplicamos adf test\n",
        "adf_test(ecg)"
      ],
      "execution_count": 0,
      "outputs": []
    },
    {
      "cell_type": "markdown",
      "metadata": {
        "id": "vo7sngxgm0FQ",
        "colab_type": "text"
      },
      "source": [
        "**Resultados de la prueba de ADF:** Las pruebas de ADF dan los siguientes resultados: Test Statistic, p-value y el valor crítico a intervalos de confianza del 1%, 5% y 10%. Los resultados de nuestra prueba para esta serie en particular son:\n",
        "\n",
        "**Prueba de estacionariedad:** si el p-value es menor a 0.05, entonces podemos rechazar la hipotesis nula.\n",
        "\n",
        "En nuestro ejemplo anterior, p-value < 0.05, lo que implica que podemos rechazar la hipotesis nula. Entonces la señal es ..."
      ]
    },
    {
      "cell_type": "markdown",
      "metadata": {
        "id": "JMhx73ToU1Mr",
        "colab_type": "text"
      },
      "source": [
        ""
      ]
    },
    {
      "cell_type": "markdown",
      "metadata": {
        "id": "ItFN4IecRvms",
        "colab_type": "text"
      },
      "source": [
        "#### **Kwiatkowski-Phillips-Schmidt-Shin (KPSS)**\n",
        "\n",
        "KPSS es otra prueba para verificar la estacionariedad de una serie de tiempo (un poco menos popular que la prueba de Dickey Fuller). La hipótesis nula y alternativa para la prueba KPSS es opuesta a la de la prueba ADF, que a menudo crea confusión.\n",
        "\n",
        "Los autores de la prueba KPSS han definido la hipótesis nula ya que el proceso es estacionario de tendencia, a una hipótesis alternativa de una serie de raíz unitaria. Entenderemos la tendencia estacionaria en detalle en la siguiente sección. Por ahora, centrémonos en la implementación y veamos los resultados de la prueba KPSS.\n",
        "\n",
        "**Hipótesis nula:** el proceso es de tendencia estacionaria.\n",
        "\n",
        "**Hipótesis alternativa:** la serie tiene una raíz unitaria (la serie no es estacionaria)."
      ]
    },
    {
      "cell_type": "code",
      "metadata": {
        "id": "fi3UbiDURxJp",
        "colab_type": "code",
        "colab": {}
      },
      "source": [
        "#Definimos la función para kpss test\n",
        "from statsmodels.tsa.stattools import kpss\n",
        "def kpss_test(timeseries):\n",
        "    print ('Resultados de KPSS Test:')\n",
        "    kpsstest = kpss(timeseries, regression='c')\n",
        "    kpss_output = pd.Series(kpsstest[0:3], index=['Test Statistic','p-value','Lags Used'])\n",
        "    for key,value in kpsstest[3].items():\n",
        "      kpss_output['Valor Crítico (%s)'%key] = value\n",
        "    print (kpss_output)\n",
        "\n",
        "kpss_test(ecg)"
      ],
      "execution_count": 0,
      "outputs": []
    },
    {
      "cell_type": "markdown",
      "metadata": {
        "id": "-ZBvGrC2tf3t",
        "colab_type": "text"
      },
      "source": [
        "**Resultados de la prueba KPSS:** Los siguientes son los resultados de la prueba KPSS: Test Statistic, valor p y valor crítico a intervalos de confianza de 1%, 2.5%, 5% y 10%.\n",
        "\n",
        "**Prueba de estacionariedad:** si el Test Statistic es mayor que el valor crítico, rechazamos la hipótesis nula (la serie no es estacionaria). Si el Test Statistic es menor que el valor crítico, si no se rechaza la hipótesis nula (la serie es estacionaria).\n",
        "\n",
        "Para la señal de ECG, el valor del Test Statistic < el valor crítico en todos los intervalos de confianza, y por lo tanto podemos decir que la serie es estacionaria.\n",
        "\n",
        "Si ambas pruebas mostraron resultados contradictorios. Una de las pruebas podría mostrar que la serie es estacionaria, mientras que la otra que la serie no lo es. Tenemos que tener en cuenta que hay más de un tipo de estacionariedad.\n",
        "\n",
        "En resumen, la prueba ADF tiene una hipótesis alternativa de lineal o diferencia estacionaria, mientras que la prueba KPSS identifica la tendencia-estacionariedad en una serie.\n",
        "\n",
        "#### **Tipos de estacionariedad**\n",
        "Comprendamos los diferentes tipos de estacionariedad y cómo interpretar los resultados de las pruebas anteriores.\n",
        "\n",
        "**Estacionario estricto:** una serie estacionaria estricta satisface la definición matemática de un proceso estacionario. Para una serie estacionaria estricta, la media, la varianza y la covarianza no son función del tiempo. El objetivo es convertir una serie no estacionaria en una serie estacionaria estricta para hacer predicciones.\n",
        "\n",
        "**Tendencia estacionaria:** una serie que no tiene raíz unitaria pero exhibe una tendencia se denomina serie estacionaria de tendencia. Una vez que se elimina la tendencia, la serie resultante será estrictamente estacionaria. La prueba KPSS clasifica una serie como estacionaria en ausencia de raíz unitaria. Esto significa que la serie puede ser estacionaria estricta o estacionaria de tendencia.\n",
        "\n",
        "**Diferencia estacionaria:** una serie de tiempo que puede hacerse estrictamente estacionaria por diferenciación cae bajo diferencia estacionaria. La prueba ADF también se conoce como prueba de estacionariedad de diferencia.\n",
        "\n",
        "\n",
        "Siempre es mejor aplicar ambas pruebas, de modo que estemos seguros de que la serie es realmente estacionaria. Veamos los posibles resultados de la aplicación de estas pruebas estacionarias.\n",
        "\n",
        "**Caso 1:** Ambas pruebas concluyen que la serie no es estacionaria -> la serie no es estacionaria\n",
        "\n",
        "**Caso 2:** Ambas pruebas concluyen que la serie es estacionaria -> la serie es estacionaria\n",
        "\n",
        "**Caso 3:** KPSS = estacionario y ADF = no estacionario -> tendencia estacionaria, elimine la tendencia para hacer series estrictamente estacionarias\n",
        "\n",
        "**Caso 4:** KPSS = no estacionario y ADF = estacionario -> diferencia estacionaria, use la diferenciación para hacer estacionarias en serie"
      ]
    }
  ]
}